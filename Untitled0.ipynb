{
  "nbformat": 4,
  "nbformat_minor": 0,
  "metadata": {
    "colab": {
      "provenance": [],
      "authorship_tag": "ABX9TyMfTwJh04UJyO9UvphY563a",
      "include_colab_link": true
    },
    "kernelspec": {
      "name": "python3",
      "display_name": "Python 3"
    },
    "language_info": {
      "name": "python"
    }
  },
  "cells": [
    {
      "cell_type": "markdown",
      "metadata": {
        "id": "view-in-github",
        "colab_type": "text"
      },
      "source": [
        "<a href=\"https://colab.research.google.com/github/luiz675/aula/blob/main/Untitled0.ipynb\" target=\"_parent\"><img src=\"https://colab.research.google.com/assets/colab-badge.svg\" alt=\"Open In Colab\"/></a>"
      ]
    },
    {
      "cell_type": "code",
      "execution_count": null,
      "metadata": {
        "id": "SICzY9TX7BBr",
        "colab": {
          "base_uri": "https://localhost:8080/"
        },
        "outputId": "f5b2b061-88a3-40a6-9faf-24c442069d44"
      },
      "outputs": [
        {
          "output_type": "stream",
          "name": "stdout",
          "text": [
            "Quantos porcoes o produto tem? 300\n",
            "Quantas porcoes você usa por dia? 23\n",
            " O produto vai durar 13 dias! \n"
          ]
        }
      ],
      "source": [
        "total_porcoes = int(input('Quantos porcoes o produto tem? '))\n",
        "porcoes_por_dia = int(input('Quantas porcoes você usa por dia? '))\n",
        "\n",
        "dias = total_porcoes / porcoes_por_dia\n",
        "\n",
        "print(f' O produto vai durar {int(dias)} dias! ')"
      ]
    },
    {
      "cell_type": "code",
      "source": [
        "total_porcoes = int(input('Quantos porcoes o produto tem? '))\n",
        "porcoes_por_dia = int(input('Quantas porcoes você usa por dia? '))\n",
        "\n",
        "dias = total_porcoes / porcoes_por_dia\n",
        "\n",
        "print(f' O produto vai durar {int(dias)} dias! ')\n"
      ],
      "metadata": {
        "colab": {
          "base_uri": "https://localhost:8080/"
        },
        "id": "UnLxXZ5vT3D4",
        "outputId": "d2e5bd6a-ad14-426f-8890-8e9cda5bbc8f"
      },
      "execution_count": null,
      "outputs": [
        {
          "output_type": "stream",
          "name": "stdout",
          "text": [
            "Quantos porcoes o produto tem? 300\n",
            "Quantas porcoes você usa por dia? 23\n",
            " O produto vai durar 13 dias! \n"
          ]
        }
      ]
    },
    {
      "cell_type": "code",
      "source": [
        "num1 = 10\n",
        "num2 = 11\n",
        "\n",
        "print(num1 == num2)\n",
        "print(num1 != num2)\n",
        "print(num1 > num2)\n",
        "print(num1 < num2)\n",
        "print(num1 >= num2)\n",
        "print(num1 <= num2)"
      ],
      "metadata": {
        "colab": {
          "base_uri": "https://localhost:8080/"
        },
        "id": "GYFvOp4-T1l5",
        "outputId": "ee5aafdf-7532-4a02-9934-f840218f61ab"
      },
      "execution_count": null,
      "outputs": [
        {
          "output_type": "stream",
          "name": "stdout",
          "text": [
            "False\n",
            "True\n",
            "False\n",
            "True\n",
            "False\n",
            "True\n"
          ]
        }
      ]
    },
    {
      "cell_type": "code",
      "source": [
        "idade = int(input('Qual e a sua idade luiz? '))\n",
        "carteira = True\n",
        "verificador = idade >= 18 and carteira\n",
        "\n",
        "\n",
        "print(verificador)"
      ],
      "metadata": {
        "colab": {
          "base_uri": "https://localhost:8080/"
        },
        "id": "Es185ImNXi4w",
        "outputId": "df0085b9-9c37-4364-a811-ca682c928c1b"
      },
      "execution_count": null,
      "outputs": [
        {
          "output_type": "stream",
          "name": "stdout",
          "text": [
            "Qual e a sua idade luiz? 17\n",
            "False\n"
          ]
        }
      ]
    },
    {
      "cell_type": "code",
      "source": [
        "usuario = input('Digite o seu usuario: ')\n",
        "senha = input('digite a sua senha: ')\n",
        "\n",
        "login_valido = usuario == 'Admin' and senha == '123admin'\n",
        "\n",
        "print(f'Login permitido: {login_valido}')"
      ],
      "metadata": {
        "colab": {
          "base_uri": "https://localhost:8080/"
        },
        "id": "3tWUuNLGaQT2",
        "outputId": "e46b6a72-8333-4ecc-82d3-11c0ddca9765"
      },
      "execution_count": null,
      "outputs": [
        {
          "output_type": "stream",
          "name": "stdout",
          "text": [
            "Digite o seu usuario: Admin\n",
            "digite a sua senha: 123admin\n",
            "Login permitido: True\n"
          ]
        }
      ]
    },
    {
      "cell_type": "code",
      "source": [
        "numero = int(input('Digite um numero '))\n",
        "\n",
        "if numero == 10:\n",
        "  print('Acertou o numero ')\n",
        "else:\n",
        "  print('Você errou o numero ')\n"
      ],
      "metadata": {
        "colab": {
          "base_uri": "https://localhost:8080/"
        },
        "id": "XF_3k2Od436r",
        "outputId": "dc16d22b-107c-4438-b4d4-1f4ed8762fb5"
      },
      "execution_count": 3,
      "outputs": [
        {
          "output_type": "stream",
          "name": "stdout",
          "text": [
            "Digite um numero 10\n",
            "Acertou o numero \n"
          ]
        }
      ]
    },
    {
      "cell_type": "code",
      "source": [
        "idade = int(input('Qual e sua idade? '))\n",
        "\n",
        "if idade >= 18:\n",
        "  print('Você e maior de idade ')\n",
        "else:\n",
        "  print('Você é menor de idade ')"
      ],
      "metadata": {
        "colab": {
          "base_uri": "https://localhost:8080/"
        },
        "id": "-F9uGN7V7B9P",
        "outputId": "075065ad-2e8f-436f-9200-6d9ec0d0420c"
      },
      "execution_count": 5,
      "outputs": [
        {
          "output_type": "stream",
          "name": "stdout",
          "text": [
            "Qual e sua idade? 20\n",
            "Você e maior de idade \n"
          ]
        }
      ]
    },
    {
      "cell_type": "code",
      "source": [
        "nota_aluno = float(input('Qual foi a sua nota no exame? '))\n",
        "\n",
        "if nota_aluno >= 7:\n",
        "  print('Você foi aprovado! ')\n",
        "elif nota_aluno >= 5:\n",
        "  print('Você esta de recuperação ')\n",
        "else:\n",
        "  print('Você foi reprovado! ')"
      ],
      "metadata": {
        "colab": {
          "base_uri": "https://localhost:8080/"
        },
        "id": "FzW38Q-V75Os",
        "outputId": "e89f9d10-6949-4ce7-885d-2093a1134eb8"
      },
      "execution_count": 10,
      "outputs": [
        {
          "output_type": "stream",
          "name": "stdout",
          "text": [
            "Qual foi a sua nota no exame? 6\n",
            "Você esta de recuperação \n"
          ]
        }
      ]
    },
    {
      "cell_type": "code",
      "source": [
        "usuario = input('Digite o seu usuario: ')\n",
        "senha = input('Digite a sua senha: ')\n",
        "if usuario == 'Admin' and senha == '123admin':\n",
        "  print('Sucesso! Login permitido')\n",
        "  print('Pode abrir a aplicação')\n",
        "else:\n",
        "  print('Erro verifique o usuario ou senha')"
      ],
      "metadata": {
        "colab": {
          "base_uri": "https://localhost:8080/"
        },
        "id": "w3I9rqtw_Gue",
        "outputId": "22cbd679-0561-47b1-e9ed-11ee3753f3b5"
      },
      "execution_count": 12,
      "outputs": [
        {
          "output_type": "stream",
          "name": "stdout",
          "text": [
            "Digite o seu usuario: Admin\n",
            "Digite a sua senha: 123admin\n",
            "Sucesso! Login permitido\n",
            "Pode abrir a aplicação\n"
          ]
        }
      ]
    },
    {
      "cell_type": "code",
      "source": [
        "idade = int(input('Qual a sua idade? '))\n",
        "autorizado_pais = input('Tem atorização dos pais? (s/n): ')\n",
        "if idade >= 18:\n",
        "  print('Acesso ao sistema liberado! ')\n",
        "elif idade >= 16 and autorizado_pais == 's' :\n",
        "  print('Acesso ao sistema liberado via atorização ')\n",
        "else:\n",
        "  print('Acesso negado! ')\n"
      ],
      "metadata": {
        "colab": {
          "base_uri": "https://localhost:8080/"
        },
        "id": "xeGhHSNFA2p2",
        "outputId": "288f4b83-2a59-4253-92ec-c5bd1e088d62"
      },
      "execution_count": 14,
      "outputs": [
        {
          "output_type": "stream",
          "name": "stdout",
          "text": [
            "Qual a sua idade? 17\n",
            "Tem atorização dos pais? (s/n): s\n",
            "Acesso ao sistema liberado via atorização \n"
          ]
        }
      ]
    }
  ]
}