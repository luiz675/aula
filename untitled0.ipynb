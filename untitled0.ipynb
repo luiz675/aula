{
  "nbformat": 4,
  "nbformat_minor": 0,
  "metadata": {
    "colab": {
      "provenance": [],
      "authorship_tag": "ABX9TyOPxlHyT7Mz0yOS8EFmRRcE",
      "include_colab_link": true
    },
    "kernelspec": {
      "name": "python3",
      "display_name": "Python 3"
    },
    "language_info": {
      "name": "python"
    }
  },
  "cells": [
    {
      "cell_type": "markdown",
      "metadata": {
        "id": "view-in-github",
        "colab_type": "text"
      },
      "source": [
        "<a href=\"https://colab.research.google.com/github/luiz675/aula/blob/main/untitled0.ipynb\" target=\"_parent\"><img src=\"https://colab.research.google.com/assets/colab-badge.svg\" alt=\"Open In Colab\"/></a>"
      ]
    },
    {
      "cell_type": "code",
      "execution_count": null,
      "metadata": {
        "id": "SICzY9TX7BBr",
        "colab": {
          "base_uri": "https://localhost:8080/"
        },
        "outputId": "f5b2b061-88a3-40a6-9faf-24c442069d44"
      },
      "outputs": [
        {
          "output_type": "stream",
          "name": "stdout",
          "text": [
            "Quantos porcoes o produto tem? 300\n",
            "Quantas porcoes você usa por dia? 23\n",
            " O produto vai durar 13 dias! \n"
          ]
        }
      ],
      "source": [
        "total_porcoes = int(input('Quantos porcoes o produto tem? '))\n",
        "porcoes_por_dia = int(input('Quantas porcoes você usa por dia? '))\n",
        "\n",
        "dias = total_porcoes / porcoes_por_dia\n",
        "\n",
        "print(f' O produto vai durar {int(dias)} dias! ')"
      ]
    },
    {
      "cell_type": "code",
      "source": [
        "total_porcoes = int(input('Quantos porcoes o produto tem? '))\n",
        "porcoes_por_dia = int(input('Quantas porcoes você usa por dia? '))\n",
        "\n",
        "dias = total_porcoes / porcoes_por_dia\n",
        "\n",
        "print(f' O produto vai durar {int(dias)} dias! ')\n"
      ],
      "metadata": {
        "colab": {
          "base_uri": "https://localhost:8080/"
        },
        "id": "UnLxXZ5vT3D4",
        "outputId": "d2e5bd6a-ad14-426f-8890-8e9cda5bbc8f"
      },
      "execution_count": null,
      "outputs": [
        {
          "output_type": "stream",
          "name": "stdout",
          "text": [
            "Quantos porcoes o produto tem? 300\n",
            "Quantas porcoes você usa por dia? 23\n",
            " O produto vai durar 13 dias! \n"
          ]
        }
      ]
    },
    {
      "cell_type": "code",
      "source": [
        "num1 = 10\n",
        "num2 = 11\n",
        "\n",
        "print(num1 == num2)\n",
        "print(num1 != num2)\n",
        "print(num1 > num2)\n",
        "print(num1 < num2)\n",
        "print(num1 >= num2)\n",
        "print(num1 <= num2)"
      ],
      "metadata": {
        "colab": {
          "base_uri": "https://localhost:8080/"
        },
        "id": "GYFvOp4-T1l5",
        "outputId": "ee5aafdf-7532-4a02-9934-f840218f61ab"
      },
      "execution_count": null,
      "outputs": [
        {
          "output_type": "stream",
          "name": "stdout",
          "text": [
            "False\n",
            "True\n",
            "False\n",
            "True\n",
            "False\n",
            "True\n"
          ]
        }
      ]
    },
    {
      "cell_type": "code",
      "source": [
        "idade = int(input('Qual e a sua idade luiz? '))\n",
        "carteira = True\n",
        "verificador = idade >= 18 and carteira\n",
        "\n",
        "\n",
        "print(verificador)"
      ],
      "metadata": {
        "colab": {
          "base_uri": "https://localhost:8080/"
        },
        "id": "Es185ImNXi4w",
        "outputId": "df0085b9-9c37-4364-a811-ca682c928c1b"
      },
      "execution_count": null,
      "outputs": [
        {
          "output_type": "stream",
          "name": "stdout",
          "text": [
            "Qual e a sua idade luiz? 17\n",
            "False\n"
          ]
        }
      ]
    },
    {
      "cell_type": "code",
      "source": [
        "usuario = input('Digite o seu usuario: ')\n",
        "senha = input('digite a sua senha: ')\n",
        "\n",
        "login_valido = usuario == 'Admin' and senha == '123admin'\n",
        "\n",
        "print(f'Login permitido: {login_valido}')"
      ],
      "metadata": {
        "colab": {
          "base_uri": "https://localhost:8080/"
        },
        "id": "3tWUuNLGaQT2",
        "outputId": "e46b6a72-8333-4ecc-82d3-11c0ddca9765"
      },
      "execution_count": null,
      "outputs": [
        {
          "output_type": "stream",
          "name": "stdout",
          "text": [
            "Digite o seu usuario: Admin\n",
            "digite a sua senha: 123admin\n",
            "Login permitido: True\n"
          ]
        }
      ]
    },
    {
      "cell_type": "code",
      "source": [
        "numero = int(input('Digite um numero '))\n",
        "\n",
        "if numero == 10:\n",
        "  print('Acertou o numero ')\n",
        "else:\n",
        "  print('Você errou o numero ')\n"
      ],
      "metadata": {
        "colab": {
          "base_uri": "https://localhost:8080/"
        },
        "id": "XF_3k2Od436r",
        "outputId": "dc16d22b-107c-4438-b4d4-1f4ed8762fb5"
      },
      "execution_count": null,
      "outputs": [
        {
          "output_type": "stream",
          "name": "stdout",
          "text": [
            "Digite um numero 10\n",
            "Acertou o numero \n"
          ]
        }
      ]
    },
    {
      "cell_type": "code",
      "source": [
        "idade = int(input('Qual e sua idade? '))\n",
        "\n",
        "if idade >= 18:\n",
        "  print('Você e maior de idade ')\n",
        "else:\n",
        "  print('Você é menor de idade ')"
      ],
      "metadata": {
        "colab": {
          "base_uri": "https://localhost:8080/"
        },
        "id": "-F9uGN7V7B9P",
        "outputId": "075065ad-2e8f-436f-9200-6d9ec0d0420c"
      },
      "execution_count": null,
      "outputs": [
        {
          "output_type": "stream",
          "name": "stdout",
          "text": [
            "Qual e sua idade? 20\n",
            "Você e maior de idade \n"
          ]
        }
      ]
    },
    {
      "cell_type": "code",
      "source": [
        "nota_aluno = float(input('Qual foi a sua nota no exame? '))\n",
        "\n",
        "if nota_aluno >= 7:\n",
        "  print('Você foi aprovado! ')\n",
        "elif nota_aluno >= 5:\n",
        "  print('Você esta de recuperação ')\n",
        "else:\n",
        "  print('Você foi reprovado! ')"
      ],
      "metadata": {
        "colab": {
          "base_uri": "https://localhost:8080/"
        },
        "id": "FzW38Q-V75Os",
        "outputId": "e89f9d10-6949-4ce7-885d-2093a1134eb8"
      },
      "execution_count": null,
      "outputs": [
        {
          "output_type": "stream",
          "name": "stdout",
          "text": [
            "Qual foi a sua nota no exame? 6\n",
            "Você esta de recuperação \n"
          ]
        }
      ]
    },
    {
      "cell_type": "code",
      "source": [
        "usuario = input('Digite o seu usuario: ')\n",
        "senha = input('Digite a sua senha: ')\n",
        "if usuario == 'Admin' and senha == '123admin':\n",
        "  print('Sucesso! Login permitido')\n",
        "  print('Pode abrir a aplicação')\n",
        "else:\n",
        "  print('Erro verifique o usuario ou senha')"
      ],
      "metadata": {
        "colab": {
          "base_uri": "https://localhost:8080/"
        },
        "id": "w3I9rqtw_Gue",
        "outputId": "22cbd679-0561-47b1-e9ed-11ee3753f3b5"
      },
      "execution_count": null,
      "outputs": [
        {
          "output_type": "stream",
          "name": "stdout",
          "text": [
            "Digite o seu usuario: Admin\n",
            "Digite a sua senha: 123admin\n",
            "Sucesso! Login permitido\n",
            "Pode abrir a aplicação\n"
          ]
        }
      ]
    },
    {
      "cell_type": "code",
      "source": [
        "idade = int(input('Qual a sua idade? '))\n",
        "autorizado_pais = input('Tem atorização dos pais? (s/n): ')\n",
        "if idade >= 18:\n",
        "  print('Acesso ao sistema liberado! ')\n",
        "elif idade >= 16 and autorizado_pais == 's' :\n",
        "  print('Acesso ao sistema liberado via atorização ')\n",
        "else:\n",
        "  print('Acesso negado! ')\n"
      ],
      "metadata": {
        "colab": {
          "base_uri": "https://localhost:8080/"
        },
        "id": "xeGhHSNFA2p2",
        "outputId": "288f4b83-2a59-4253-92ec-c5bd1e088d62"
      },
      "execution_count": null,
      "outputs": [
        {
          "output_type": "stream",
          "name": "stdout",
          "text": [
            "Qual a sua idade? 17\n",
            "Tem atorização dos pais? (s/n): s\n",
            "Acesso ao sistema liberado via atorização \n"
          ]
        }
      ]
    },
    {
      "cell_type": "code",
      "source": [
        "for repetir in range(1,6):\n",
        "  print(repetir)"
      ],
      "metadata": {
        "colab": {
          "base_uri": "https://localhost:8080/"
        },
        "id": "sxsPHmLCjl5c",
        "outputId": "748fbb02-6049-4027-fbb3-9b94b9a8bc53"
      },
      "execution_count": null,
      "outputs": [
        {
          "output_type": "stream",
          "name": "stdout",
          "text": [
            "1\n",
            "2\n",
            "3\n",
            "4\n",
            "5\n"
          ]
        }
      ]
    },
    {
      "cell_type": "code",
      "source": [
        "for i in range(10, 0, -2):\n",
        "  print(i)\n",
        "\n"
      ],
      "metadata": {
        "colab": {
          "base_uri": "https://localhost:8080/"
        },
        "id": "A3wcqATKlKyD",
        "outputId": "0e7bb8a0-9e0e-4725-aeec-39e295724141"
      },
      "execution_count": null,
      "outputs": [
        {
          "output_type": "stream",
          "name": "stdout",
          "text": [
            "10\n",
            "8\n",
            "6\n",
            "4\n",
            "2\n"
          ]
        }
      ]
    },
    {
      "cell_type": "code",
      "source": [
        "i = 0\n",
        "while i < 5:\n",
        "  print(i)\n",
        "  i = i + 1"
      ],
      "metadata": {
        "colab": {
          "base_uri": "https://localhost:8080/"
        },
        "id": "US90lysErW8b",
        "outputId": "02cb18e4-ab0e-4027-e479-0fce73baef55"
      },
      "execution_count": null,
      "outputs": [
        {
          "output_type": "stream",
          "name": "stdout",
          "text": [
            "0\n",
            "1\n",
            "2\n",
            "3\n",
            "4\n"
          ]
        }
      ]
    },
    {
      "cell_type": "code",
      "source": [
        "i = 0\n",
        "while i <= 5:\n",
        "  print(i)\n",
        "  i = i + 1"
      ],
      "metadata": {
        "colab": {
          "base_uri": "https://localhost:8080/"
        },
        "id": "ftY1sm3HtEau",
        "outputId": "4a465744-e8f1-4fe4-e5cd-9e12a10ba6c2"
      },
      "execution_count": null,
      "outputs": [
        {
          "output_type": "stream",
          "name": "stdout",
          "text": [
            "0\n",
            "1\n",
            "2\n",
            "3\n",
            "4\n",
            "5\n"
          ]
        }
      ]
    },
    {
      "cell_type": "code",
      "source": [
        "senha = ''\n",
        "while senha != '123':\n",
        "  senha = input('Qual é a senha do sistema? ')\n",
        "  print('Acesso Liberado')\n"
      ],
      "metadata": {
        "colab": {
          "base_uri": "https://localhost:8080/"
        },
        "id": "LbA3TsrtOX3k",
        "outputId": "09af7aba-fd5e-4e34-a979-e567dd41577d"
      },
      "execution_count": null,
      "outputs": [
        {
          "name": "stdout",
          "output_type": "stream",
          "text": [
            "Qual é a senha do sistema? 1\n",
            "Qual é a senha do sistema? 3\n",
            "Qual é a senha do sistema? 123\n"
          ]
        }
      ]
    },
    {
      "cell_type": "code",
      "source": [
        "frutas = ['Abacate', 'Banana', 'Morango']\n",
        "print(frutas[1])\n",
        "print(frutas)\n"
      ],
      "metadata": {
        "colab": {
          "base_uri": "https://localhost:8080/"
        },
        "id": "6ClunKemn4VT",
        "outputId": "17ce41f6-bec5-473c-a0e8-95fe350f59f8"
      },
      "execution_count": null,
      "outputs": [
        {
          "output_type": "stream",
          "name": "stdout",
          "text": [
            "Banana\n",
            "['Abacate', 'Banana', 'Morango']\n"
          ]
        }
      ]
    },
    {
      "cell_type": "code",
      "source": [
        "frutas = ['Abacate', 'Banana', 'Morango']\n",
        "frutas.append('Limão')\n",
        "frutas.append('Laranja')\n",
        "print(frutas)"
      ],
      "metadata": {
        "colab": {
          "base_uri": "https://localhost:8080/"
        },
        "id": "7anxQfyopwYq",
        "outputId": "66db3f94-1103-427a-8441-49a4f87a30db"
      },
      "execution_count": null,
      "outputs": [
        {
          "output_type": "stream",
          "name": "stdout",
          "text": [
            "['Abacate', 'Banana', 'Morango', 'Limão', 'Laranja']\n"
          ]
        }
      ]
    },
    {
      "cell_type": "code",
      "source": [
        "frutas = ['Abacate', 'Banana', 'Morango']\n",
        "frutas.append('uva')\n",
        "frutas.append('Laranja')\n",
        "frutas.remove('Abacate')\n",
        "print(frutas)"
      ],
      "metadata": {
        "colab": {
          "base_uri": "https://localhost:8080/"
        },
        "id": "UKzDmDyut0JM",
        "outputId": "9d781103-4909-44aa-8809-1e0ba9dd82fd"
      },
      "execution_count": null,
      "outputs": [
        {
          "output_type": "stream",
          "name": "stdout",
          "text": [
            "['Banana', 'Morango', 'uva', 'Laranja']\n"
          ]
        }
      ]
    },
    {
      "cell_type": "code",
      "source": [
        "frutas = ['Abacate', 'Banana', 'Morango']\n",
        "frutas.append('uva')\n",
        "frutas.append('Laranja')\n",
        "frutas.remove('Abacate')\n",
        "print(len(frutas))\n",
        "print(frutas)"
      ],
      "metadata": {
        "colab": {
          "base_uri": "https://localhost:8080/"
        },
        "id": "WpGWtMRYukTz",
        "outputId": "a6aec35c-8684-42a1-df88-0a62784564f1"
      },
      "execution_count": null,
      "outputs": [
        {
          "output_type": "stream",
          "name": "stdout",
          "text": [
            "4\n",
            "['Banana', 'Morango', 'uva', 'Laranja']\n"
          ]
        }
      ]
    },
    {
      "cell_type": "code",
      "source": [
        "tarefas = []\n",
        "tarefas.append('Estudar Python com IA')\n",
        "tarefas.append('Ler um artigo sobre IA')\n",
        "tarefas.append('Responder Emails')\n",
        "print('Minhas Tarefas diarias: ')\n",
        "print(tarefas[0])\n",
        "print(tarefas[1])\n",
        "print(tarefas[2])"
      ],
      "metadata": {
        "colab": {
          "base_uri": "https://localhost:8080/"
        },
        "id": "0BIjJeqH1q9p",
        "outputId": "244f885e-0937-4642-d012-298f6c8bb50e"
      },
      "execution_count": null,
      "outputs": [
        {
          "output_type": "stream",
          "name": "stdout",
          "text": [
            "Minhas Tarefas diarias: \n",
            "Estudar Python com IA\n",
            "Ler um artigo sobre IA\n",
            "Responder Emails\n"
          ]
        }
      ]
    }
  ]
}