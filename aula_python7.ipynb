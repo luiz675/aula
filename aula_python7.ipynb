{
  "nbformat": 4,
  "nbformat_minor": 0,
  "metadata": {
    "colab": {
      "provenance": [],
      "authorship_tag": "ABX9TyOzNPl0hbWZyTdKVC1zgA9t",
      "include_colab_link": true
    },
    "kernelspec": {
      "name": "python3",
      "display_name": "Python 3"
    },
    "language_info": {
      "name": "python"
    }
  },
  "cells": [
    {
      "cell_type": "markdown",
      "metadata": {
        "id": "view-in-github",
        "colab_type": "text"
      },
      "source": [
        "<a href=\"https://colab.research.google.com/github/luiz675/aula/blob/main/aula_python7.ipynb\" target=\"_parent\"><img src=\"https://colab.research.google.com/assets/colab-badge.svg\" alt=\"Open In Colab\"/></a>"
      ]
    },
    {
      "cell_type": "code",
      "execution_count": 13,
      "metadata": {
        "colab": {
          "base_uri": "https://localhost:8080/"
        },
        "id": "-vY_C6GkOCG5",
        "outputId": "6257c297-f796-47ad-d307-5320da5b5e81"
      },
      "outputs": [
        {
          "output_type": "stream",
          "name": "stdout",
          "text": [
            "Digite o seu nome: luiz\n",
            "Digite a sua idade: 42\n",
            "Óla luiz daqui 5 anos Você terá 47 anos de idade\n",
            "<class 'str'>\n",
            "<class 'int'>\n"
          ]
        }
      ],
      "source": [
        "nome = input('Digite o seu nome: ')\n",
        "idade = int(input('Digite a sua idade: '))\n",
        "print(f'Óla {nome} daqui 5 anos Você terá {idade + 5} anos de idade')\n",
        "\n",
        "print(type(nome))\n",
        "print(type(idade))"
      ]
    },
    {
      "cell_type": "code",
      "source": [
        "numero1 = 10\n",
        "numero2 = 2\n",
        "\n",
        "print(numero1 + numero2)\n",
        "print(numero1 - numero2)\n",
        "print(numero1 * numero2)\n",
        "print(numero1 / numero2)\n",
        "print(numero1 // numero2)\n",
        "print(numero1 % numero2) # resto da divisão\n",
        "print(numero1 ** numero2) # potência"
      ],
      "metadata": {
        "id": "jmLvpee6QLSE"
      },
      "execution_count": null,
      "outputs": []
    },
    {
      "cell_type": "code",
      "source": [
        "preco = int(input('Digite o valor do produto: '))  # valor real\n",
        "desconto = int(input('Digite o valor aplicado')) #desconto e porcentagem\n",
        "novo_preco = preco - preco * desconto / 100\n",
        "print(f' O valor com desconto e de $ {novo_preco}')"
      ],
      "metadata": {
        "colab": {
          "base_uri": "https://localhost:8080/"
        },
        "id": "K4o4nhfORiZp",
        "outputId": "1b839977-d578-4cb2-d61a-fad30dc318a1"
      },
      "execution_count": 15,
      "outputs": [
        {
          "output_type": "stream",
          "name": "stdout",
          "text": [
            "Digite o valor do produto: 50\n",
            "Digite o valor aplicado14\n",
            " O valor com desconto e de $ 43.0\n"
          ]
        }
      ]
    }
  ]
}